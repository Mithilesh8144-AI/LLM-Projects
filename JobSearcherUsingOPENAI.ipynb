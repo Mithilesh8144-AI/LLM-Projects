{
 "cells": [
  {
   "cell_type": "code",
   "execution_count": 1,
   "id": "9ebae11c-d678-462d-b7e4-1076e46021c0",
   "metadata": {},
   "outputs": [],
   "source": [
    "import os\n",
    "import requests\n",
    "import json\n",
    "from typing import List\n",
    "from dotenv import load_dotenv\n",
    "from bs4 import BeautifulSoup\n",
    "from IPython.display import Markdown, display, update_display\n",
    "from openai import OpenAI"
   ]
  },
  {
   "cell_type": "code",
   "execution_count": 3,
   "id": "1b3e3b6c-5aa7-4b7c-a987-1ca5aee2db46",
   "metadata": {},
   "outputs": [],
   "source": [
    "\n",
    "load_dotenv(override=True)\n",
    "api_key = os.getenv('OPENAI_API_KEY')\n",
    " \n",
    "MODEL = 'gpt-4o-mini'\n",
    "openai = OpenAI()"
   ]
  },
  {
   "cell_type": "code",
   "execution_count": 4,
   "id": "e179d930-3bb8-4796-ac17-c6a415f6261a",
   "metadata": {},
   "outputs": [],
   "source": [
    "# A class to represent a Webpage\n",
    "\n",
    "# Some websites need you to use proper headers when fetching them:\n",
    "headers = {\n",
    " \"User-Agent\": \"Mozilla/5.0 (Windows NT 10.0; Win64; x64) AppleWebKit/537.36 (KHTML, like Gecko) Chrome/117.0.0.0 Safari/537.36\"\n",
    "}\n",
    "\n",
    "class Website:    \n",
    "\n",
    "    def __init__(self, url):\n",
    "        self.url = url\n",
    "        response = requests.get(url, headers=headers)\n",
    "        self.body = response.content\n",
    "        soup = BeautifulSoup(self.body, 'html.parser')\n",
    "        self.title = soup.title.string if soup.title else \"No title found\"\n",
    "        if soup.body:\n",
    "            for irrelevant in soup.body([\"script\", \"style\", \"img\", \"input\"]):\n",
    "                irrelevant.decompose()\n",
    "            self.text = soup.body.get_text(separator=\"\\n\", strip=True)\n",
    "        else:\n",
    "            self.text = \"\"\n",
    "        links = [link.get('href') for link in soup.find_all('a')]\n",
    "        self.links = [link for link in links if link]\n",
    "\n",
    "    def get_contents(self):\n",
    "        return f\"Webpage Title:\\n{self.title}\\nWebpage Contents:\\n{self.text}\\n\\n\""
   ]
  },
  {
   "cell_type": "code",
   "execution_count": 5,
   "id": "ba39ad71-d0e1-422b-983c-001cedba495c",
   "metadata": {},
   "outputs": [],
   "source": [
    "web = Website(\"https://www.linkedin.com/jobs/working-student-jobs-germany/\")"
   ]
  },
  {
   "cell_type": "code",
   "execution_count": 6,
   "id": "47974182-9b97-4de7-b376-457e1717c873",
   "metadata": {},
   "outputs": [],
   "source": [
    "link_system_prompt = \"You are provided with a list of links for a job on a webpage. \\\n",
    "You are able to decide which of the links would be most relevant to the field of Data engineering or Artificial Intelligence, \\\n",
    "such as links for working student jobs in those fields.\\n\"\n",
    "link_system_prompt += \"You should respond in JSON as in this example:\"\n",
    "link_system_prompt += \"\"\"\n",
    "{\n",
    "    \"links\": [\n",
    "        {\"type\": \"Artificial Intelligence\", \"url\": \"https://full.url/goes/here/about\"},\n",
    "        {\"type\": \"Data Engineering\": \"url\": \"https://another.full.url/careers\"}\n",
    "    ]\n",
    "}\n",
    "\"\"\""
   ]
  },
  {
   "cell_type": "code",
   "execution_count": 7,
   "id": "e6e38cb1-01c1-4a98-8870-7b4ae2cddb1d",
   "metadata": {},
   "outputs": [],
   "source": [
    "def get_links_user_prompt(website):\n",
    "    user_prompt = f\"Here is the list of links on the job website of {website.url} - \"\n",
    "    \n",
    "    user_prompt += \"please decide which of these are relevant web links that are visible on the company website for a job in the field of Data Engineering or Artificial Intelligence\\n\"\n",
    "    user_prompt += \"please remove the links which are of no use such as privacy and agreements.\\n\"\n",
    "    user_prompt += \"Links (some might be relative links):\\n\"\n",
    "    user_prompt += \"\\n\".join(website.links)\n",
    "    return user_prompt"
   ]
  },
  {
   "cell_type": "code",
   "execution_count": 8,
   "id": "c60bc922-6e41-416c-971b-5dcadff4b7d8",
   "metadata": {},
   "outputs": [],
   "source": [
    "def get_links(url):\n",
    "    website = Website(url)\n",
    "    response = openai.chat.completions.create(\n",
    "        model=MODEL,\n",
    "        messages=[\n",
    "            {\"role\": \"system\", \"content\": link_system_prompt},\n",
    "            {\"role\": \"user\", \"content\": get_links_user_prompt(website)}\n",
    "      ],\n",
    "        response_format={\"type\": \"json_object\"}\n",
    "    )\n",
    "    result = response.choices[0].message.content\n",
    "    return json.loads(result)"
   ]
  },
  {
   "cell_type": "code",
   "execution_count": null,
   "id": "9b99eb45-ef88-40f4-863b-1b900c33f58a",
   "metadata": {},
   "outputs": [],
   "source": []
  },
  {
   "cell_type": "code",
   "execution_count": 9,
   "id": "5f45c8b7-5ab9-498a-9742-1bf354768328",
   "metadata": {},
   "outputs": [],
   "source": [
    "def get_all_details(url):\n",
    "    result = \"Landing page:\\n\"\n",
    "    result += Website(url).get_contents()\n",
    "    links = get_links(url)\n",
    "    print(\"Found links:\", links)\n",
    "    for link in links[\"links\"]:\n",
    "        result += f\"\\n\\n{link['type']}\\n\"\n",
    "        result += Website(link[\"url\"]).get_contents()\n",
    "    return result"
   ]
  },
  {
   "cell_type": "code",
   "execution_count": 22,
   "id": "f9efb29d-b137-404d-baa5-2bbc792a60e9",
   "metadata": {},
   "outputs": [],
   "source": [
    "system_prompt = \"You are an assistant in analyzes the contents of several relevant job openings from a job website \\\n",
    "and creates a short description about each job, the company offering the job and requirements for the job for prospective employees. Respond in markdown.\\\n",
    "Include details of jobs and requirements if you have the information.\""
   ]
  },
  {
   "cell_type": "code",
   "execution_count": 23,
   "id": "a28fdcfc-e2e6-405b-a1d8-6df6baf9a4b2",
   "metadata": {},
   "outputs": [],
   "source": [
    "def get_brochure_user_prompt(url):\n",
    "    user_prompt = f\"You are looking at a website entailing multiple job openings\\n\"\n",
    "    user_prompt += f\"Here are the contents of its landing page and other relevant pages; use this information to build a description of each job and their relevant content such as requirements and other information pertaining to the job in markdown.\\n\"\n",
    "    user_prompt += get_all_details(url)\n",
    "    user_prompt = user_prompt[:5_000] # Truncate if more than 5,000 characters\n",
    "    return user_prompt"
   ]
  },
  {
   "cell_type": "code",
   "execution_count": 17,
   "id": "c0fdbbd7-7c3e-4328-be40-74663425b9db",
   "metadata": {},
   "outputs": [],
   "source": [
    "def create_jobs(url):\n",
    "    response = openai.chat.completions.create(\n",
    "        model=MODEL,\n",
    "        messages=[\n",
    "            {\"role\": \"system\", \"content\": system_prompt},\n",
    "            {\"role\": \"user\", \"content\": get_brochure_user_prompt(url)}\n",
    "          ],\n",
    "    )\n",
    "    result = response.choices[0].message.content\n",
    "    return result"
   ]
  },
  {
   "cell_type": "code",
   "execution_count": 51,
   "id": "d42b69ad-9f90-4cae-b9be-6d6708effb37",
   "metadata": {},
   "outputs": [
    {
     "name": "stdout",
     "output_type": "stream",
     "text": [
      "Found links: {'links': [{'type': 'Data Engineering', 'url': 'https://de.linkedin.com/jobs/view/data-analytics-working-student-at-beat81-4131023280?position=21&pageNum=0&refId=lONQAnJxkKO%2F6yPdGGnnyw%3D%3D&trackingId=6vcC95RNMzSoyUkjyOHmcw%3D%3D'}, {'type': 'Artificial Intelligence', 'url': 'https://de.linkedin.com/jobs/view/machine-learning-working-student-hybrid-at-dida-4015219243?position=15&pageNum=0&refId=lONQAnJxkKO%2F6yPdGGnnyw%3D%3D&trackingId=I9hJH93N62xKdpSYWQClWA%3D%3D'}, {'type': 'Data Engineering', 'url': 'https://de.linkedin.com/jobs/view/working-student-data-science-f-m-d-at-ocell-4126026022?position=26&pageNum=0&refId=lONQAnJxkKO%2F6yPdGGnnyw%3D%3D&trackingId=1mlEmxEef3p%2FV7M6UPAfMQ%3D%3D'}, {'type': 'Artificial Intelligence', 'url': 'https://de.linkedin.com/jobs/view/working-student-internship-at-software-defined-automation-3837962677?position=53&pageNum=0&refId=lONQAnJxkKO%2F6yPdGGnnyw%3D%3D&trackingId=aW7520pmXgVkfKLJV4PfuQ%3D%3D'}]}\n"
     ]
    },
    {
     "data": {
      "text/markdown": [
       "# Job Overview: Working Student Opportunities in Germany\n",
       "\n",
       "## Company Description\n",
       "In Germany, over 25,000 working student positions are available across various industries, providing valuable experiences while completing academic studies. Key players in this landscape include technology firms, startups, financial services, and diversified conglomerates such as NETZSCH Group, VÆRIDION, and TikTok. These roles cater primarily to students seeking part-time opportunities that align with their fields of study, helping them to gain relevant skills and industry experience.\n",
       "\n",
       "---\n",
       "\n",
       "## Job Listings\n",
       "\n",
       "### 1. Working Student - Software Development (m/w/d)  \n",
       "**Company:** perto  \n",
       "**Location:** Berlin, Germany  \n",
       "**Date Posted:** 19 hours ago  \n",
       "\n",
       "**Job Description:**  \n",
       "As a Working Student in Software Development, you will assist in developing and maintaining software applications, contributing to ongoing projects, and learning from experienced developers.\n",
       "\n",
       "**Requirements:**  \n",
       "- Enrolled in a Computer Science or related degree  \n",
       "- Familiarity with programming languages such as Java, Python, or JavaScript  \n",
       "- Problem-solving orientation and the ability to work in a team  \n",
       "- Availability to work 15-20 hours per week\n",
       "\n",
       "---\n",
       "\n",
       "### 2. TikTok Product Marketing Working Student  \n",
       "**Company:** TikTok  \n",
       "**Location:** Berlin/Paris  \n",
       "**Start Date:** Immediate, 2025  \n",
       "**Status:** Actively Hiring  \n",
       "\n",
       "**Job Description:**  \n",
       "Join the Product Marketing team to support marketing initiatives and campaigns, focusing on user engagement strategies across various platforms.\n",
       "\n",
       "**Requirements:**  \n",
       "- Background in Marketing, Communications, or Business  \n",
       "- Excellent communication skills in both written and oral formats  \n",
       "- Experience with social media analytics tools is a plus  \n",
       "- Creative mindset with strong analytical abilities\n",
       "\n",
       "---\n",
       "\n",
       "### 3. Data Analytics Working Student  \n",
       "**Company:** BEAT81  \n",
       "**Location:** Berlin, Germany  \n",
       "**Date Posted:** 1 day ago  \n",
       "\n",
       "**Job Description:**  \n",
       "You will support the data analytics team in extracting and analyzing data, helping to drive decision-making processes.\n",
       "\n",
       "**Requirements:**  \n",
       "- Pursuing a degree in Data Science, Statistics, or similar  \n",
       "- Proficient in SQL and data visualization tools  \n",
       "- Strong analytical and problem-solving skills  \n",
       "- Ability to work part-time during the week\n",
       "\n",
       "---\n",
       "\n",
       "### 4. Working Student Finance (all genders)  \n",
       "**Company:** Q ENERGY  \n",
       "**Location:** Berlin, Germany  \n",
       "**Date Posted:** 11 hours ago  \n",
       "\n",
       "**Job Description:**  \n",
       "Assist the finance team in preparing reports, analyzing financial data, and supporting budgeting processes.\n",
       "\n",
       "**Requirements:**  \n",
       "- Enrolled in a Finance, Economics, or Accounting program  \n",
       "- Detail-oriented with strong numerical skills  \n",
       "- Basic knowledge of financial software is advantageous  \n",
       "- Ability to commit to at least 15 hours a week\n",
       "\n",
       "---\n",
       "\n",
       "### 5. Working Student IT Support (m/w/d)  \n",
       "**Company:** roadsurfer  \n",
       "**Location:** Greater Munich Metropolitan Area  \n",
       "**Date Posted:** 1 week ago  \n",
       "\n",
       "**Job Description:**  \n",
       "Provide technical support to users, assist in troubleshooting issues, and maintain IT equipment.\n",
       "\n",
       "**Requirements:**  \n",
       "- Studying Computer Science or a related field  \n",
       "- Strong problem-solving skills and customer service orientation  \n",
       "- Familiarity with IT support tools and systems  \n",
       "- Flexible working hours are available\n",
       "\n",
       "---\n",
       "\n",
       "## Conclusion\n",
       "These opportunities cater to students looking to integrate their academic learning with practical experience. Whether in software development, finance, marketing, or IT support, roles vary widely, ensuring that students have ample options to align with their career interests. Students can navigate this landscape effectively to build their resumes while pursuing academic goals."
      ],
      "text/plain": [
       "<IPython.core.display.Markdown object>"
      ]
     },
     "metadata": {},
     "output_type": "display_data"
    }
   ],
   "source": [
    "create_jobs(\"https://www.linkedin.com/jobs/working-student-jobs-germany/\")"
   ]
  },
  {
   "cell_type": "code",
   "execution_count": 13,
   "id": "8d39adaa-7209-4829-8f08-4746d7a28571",
   "metadata": {},
   "outputs": [],
   "source": [
    "import gradio as gr"
   ]
  },
  {
   "cell_type": "code",
   "execution_count": 24,
   "id": "84998a8c-aa4b-41aa-9c79-b2df6cb7007e",
   "metadata": {},
   "outputs": [
    {
     "name": "stdout",
     "output_type": "stream",
     "text": [
      "* Running on local URL:  http://127.0.0.1:7864\n",
      "\n",
      "To create a public link, set `share=True` in `launch()`.\n"
     ]
    },
    {
     "data": {
      "text/html": [
       "<div><iframe src=\"http://127.0.0.1:7864/\" width=\"100%\" height=\"500\" allow=\"autoplay; camera; microphone; clipboard-read; clipboard-write;\" frameborder=\"0\" allowfullscreen></iframe></div>"
      ],
      "text/plain": [
       "<IPython.core.display.HTML object>"
      ]
     },
     "metadata": {},
     "output_type": "display_data"
    },
    {
     "data": {
      "text/plain": []
     },
     "execution_count": 24,
     "metadata": {},
     "output_type": "execute_result"
    },
    {
     "name": "stdout",
     "output_type": "stream",
     "text": [
      "Found links: {'links': [{'type': 'Data Engineering', 'url': 'https://de.linkedin.com/jobs/view/tiktok-product-marketing-working-student-berlin-paris-immediate-start-2025-at-tiktok-4125293886?position=1&pageNum=0&refId=goqYsHfchh%2BukgIF3AgzDw%3D%3D&trackingId=%2Bcuhi4P9uGWJoY3qE2rtTA%3D%3D'}, {'type': 'Artificial Intelligence', 'url': 'https://de.linkedin.com/jobs/view/semester-final-thesis-at-v%C3%A6ridion%C2%A0-all-genders-at-v%C3%A6ridion-4129496453?position=2&pageNum=0&refId=goqYsHfchh%2BukgIF3AgzDw%3D%3D&trackingId=1TIZmcIwRryGePwabgqUXQ%3D%3D'}, {'type': 'Data Engineering', 'url': 'https://de.linkedin.com/jobs/view/working-student-internship-ventures-team-at-campus-founders-3995387982?position=3&pageNum=0&refId=goqYsHfchh%2BukgIF3AgzDw%3D%3D&trackingId=ICB6UGJMDNCRE4sIWabvYg%3D%3D'}, {'type': 'Data Engineering', 'url': 'https://de.linkedin.com/jobs/view/working-student-internship-ventures-team-at-campus-founders-3995967547?position=4&pageNum=0&refId=goqYsHfchh%2BukgIF3AgzDw%3D%3D&trackingId=O7ia38%2FZV3cvIqIKqqKg%2Bg%3D%3D'}, {'type': 'Artificial Intelligence', 'url': 'https://de.linkedin.com/jobs/view/unsolicited-general-working-student-application-m-f-d-at-caresyntax-4125076483?position=5&pageNum=0&refId=goqYsHfchh%2BukgIF3AgzDw%3D%3D&trackingId=WBdwfJ3HFiyDn7ZkUW4agw%3D%3D'}, {'type': 'Data Engineering', 'url': 'https://de.linkedin.com/jobs/view/working-student-intern-m-f-d-at-netzsch-group-4125729664?position=6&pageNum=0&refId=goqYsHfchh%2BukgIF3AgzDw%3D%3D&trackingId=oRgImJEjfOKgKIXsvDQJeA%3D%3D'}]}\n"
     ]
    }
   ],
   "source": [
    "view = gr.Interface(\n",
    "    fn=create_jobs,\n",
    "    inputs=[\n",
    "        gr.Textbox(label=\"Landing page URL including http:// or https://\")],\n",
    "    outputs=[gr.Markdown(label=\"Brochure:\")],\n",
    "    flagging_mode=\"never\"\n",
    ")\n",
    "view.launch()"
   ]
  },
  {
   "cell_type": "code",
   "execution_count": null,
   "id": "d9426c90-50b9-42b7-9a0c-688792319196",
   "metadata": {},
   "outputs": [],
   "source": []
  }
 ],
 "metadata": {
  "kernelspec": {
   "display_name": "Python 3 (ipykernel)",
   "language": "python",
   "name": "python3"
  },
  "language_info": {
   "codemirror_mode": {
    "name": "ipython",
    "version": 3
   },
   "file_extension": ".py",
   "mimetype": "text/x-python",
   "name": "python",
   "nbconvert_exporter": "python",
   "pygments_lexer": "ipython3",
   "version": "3.11.11"
  }
 },
 "nbformat": 4,
 "nbformat_minor": 5
}
