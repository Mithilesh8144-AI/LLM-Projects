{
 "cells": [
  {
   "cell_type": "code",
   "execution_count": 1,
   "id": "f26c4525-02ab-484e-a91e-fa0cd24a36db",
   "metadata": {},
   "outputs": [],
   "source": [
    "import os\n",
    "import requests\n",
    "from dotenv import load_dotenv\n",
    "from bs4 import BeautifulSoup\n",
    "from IPython.display import Markdown, display\n",
    "from openai import OpenAI\n"
   ]
  },
  {
   "cell_type": "code",
   "execution_count": 2,
   "id": "0cf70854-9fe3-4681-9500-591c29bfa7a8",
   "metadata": {},
   "outputs": [],
   "source": [
    "\n",
    "headers = {\n",
    " \"User-Agent\": \"Mozilla/5.0 (Windows NT 10.0; Win64; x64) AppleWebKit/537.36 (KHTML, like Gecko) Chrome/117.0.0.0 Safari/537.36\"\n",
    "}\n",
    "\n",
    "class Website:\n",
    "\n",
    "    def __init__(self, url):\n",
    "        \"\"\"\n",
    "        Create this Website object from the given url using the BeautifulSoup library\n",
    "        \"\"\"\n",
    "        self.url = url\n",
    "        response = requests.get(url, headers=headers)\n",
    "        soup = BeautifulSoup(response.content, 'html.parser')\n",
    "        self.title = soup.title.string if soup.title else \"No title found\"\n",
    "        for irrelevant in soup.body([\"script\", \"style\", \"img\", \"input\"]):\n",
    "            irrelevant.decompose()\n",
    "        self.text = soup.body.get_text(separator=\"\\n\", strip=True)"
   ]
  },
  {
   "cell_type": "code",
   "execution_count": 5,
   "id": "0c14f98d-1b46-44b2-ad77-cc90d4559832",
   "metadata": {},
   "outputs": [],
   "source": [
    "webpage = Website(\"https://en.chessbase.com\")"
   ]
  },
  {
   "cell_type": "code",
   "execution_count": 9,
   "id": "d95ae9e0-60ac-4524-a355-3a28ed267a25",
   "metadata": {},
   "outputs": [],
   "source": [
    "system_prompt = \"You are an assistant that analyzes the contents of a website \\\n",
    "and provides a short summary, ignoring text that might be navigation related. \\\n",
    "Respond in markdown.\"\n"
   ]
  },
  {
   "cell_type": "code",
   "execution_count": 11,
   "id": "0be12a0d-ca85-4d1e-94e2-65d91950bffb",
   "metadata": {},
   "outputs": [],
   "source": [
    "def user_prompt_for(website):\n",
    "    user_prompt = f\"You are looking at a website titled {website.title}\"\n",
    "    user_prompt += \"\\nThe contents of this website is as follows; \\\n",
    "please provide a short summary of this website in markdown. \\\n",
    "If it includes news or announcements, then summarize these too.\\n\\n\"\n",
    "    user_prompt += website.text\n",
    "    return user_prompt"
   ]
  },
  {
   "cell_type": "code",
   "execution_count": 13,
   "id": "e3a1e589-f27b-4956-985f-bd1fb837be05",
   "metadata": {},
   "outputs": [],
   "source": [
    "\n",
    "def messages_for(website):\n",
    "    return [\n",
    "        {\"role\": \"system\", \"content\": system_prompt},\n",
    "        {\"role\": \"user\", \"content\": user_prompt_for(website)}\n",
    "    ]"
   ]
  },
  {
   "cell_type": "code",
   "execution_count": 15,
   "id": "a005756d-5c82-4007-aaf6-2f876b9904bc",
   "metadata": {},
   "outputs": [],
   "source": [
    "messages = messages_for(webpage)"
   ]
  },
  {
   "cell_type": "code",
   "execution_count": 16,
   "id": "d26f93c4-8939-4537-a7de-28dec2e816e6",
   "metadata": {},
   "outputs": [
    {
     "data": {
      "text/plain": [
       "[{'role': 'system',\n",
       "  'content': 'You are an assistant that analyzes the contents of a website and provides a short summary, ignoring text that might be navigation related. Respond in markdown.'},\n",
       " {'role': 'user',\n",
       "  'content': 'You are looking at a website titled Chess News | ChessBase\\nThe contents of this website is as follows; please provide a short summary of this website in markdown. If it includes news or announcements, then summarize these too.\\n\\nShop\\nHome\\nOPENINGS A-Z\\nSupport\\nCB Magazine\\nSupport-Center\\nDownload\\nNewsletter\\nLearn chess\\nHome\\nOPENINGS A-Z\\nCB Magazine\\nCB Books\\nSupport\\nSupport-Center\\nNewsletter\\nLearn chess\\nToggle navigation\\nHome\\nOPENINGS A-Z\\nCB Magazine\\nCB Books\\nSupport-Center\\nDownload\\nNewsletter\\nLearn chess\\nLogin\\nPLAYCHESS\\nTACTICS\\nVIDEO\\nFRITZ\\nLIVE\\nDATABASE\\nMYGAMES\\nPLAYERS\\nSTUDIES\\nSHOP\\nChess News\\nSHOP\\nSearch:\\nLanguage:\\nSearch:\\nLanguage:\\nDE\\nEN\\nES\\nFR\\nLanguage:\\nSHOP\\nenglish\\ndeutsch\\nespanol\\nfrançaise\\nTesting CheckMatle – with Svitlana\\n1/9/2025 – At the start of the World Championship in Singapore, on November 25th 2024, a new chess puzzle game, inspired by the incredibly popular \\'Wordle\\', was launched. It was developed by a young lad from Singapore, a problem expert, together with a member of the ChessBase family. We have been experimenting with the World Championship game, to see how people who are confronted with it, react. We recorded a strong chess player\\'s first interaction with the game. It was instructive and entertaining.\\nMore...\\nComments\\n3\\nChessBase 18 - Mega package\\nWinning starts with what you know\\nThe new version 18 offers completely new possibilities for chess training and analysis: playing style analysis, search for strategic themes, access to 6 billion Lichess games, player preparation by matching Lichess games, download Chess.com games with built-in API, built-in cloud engine and much more.\\nMore...\\nChessBase 18 - Mega package\\nWinning starts with what you know\\nThe new version 18 offers completely new possibilities for chess training and analysis: playing style analysis, search for strategic themes, access to 6 billion Lichess games, player preparation by matching Lichess games, download Chess.com games with built-in API, built-in cloud engine and much more.\\nMore...\\nStill no ChessBase Account?\\nlearn more >\\n8 million games online! Updated weekly, our definitive database has all the latest games. \\r\\nWith Live Book and Let’s Check!\\nStill no ChessBase Account?\\nlearn more >\\nMy Games – Access your games from everywhere. Store your games, training material and opening repertoire in the cloud. Annotate, analyze and share.\\nStill no ChessBase Account?\\nlearn more >\\nSac, sac, mate! Solve tactical positions of your playing strength. Boost your calculation skills. Enjoy adrenalin rush with tactic fights!\\nStill no ChessBase Account?\\nlearn more >\\nThousands of hours of high class video training. Openings, Middlegame, Endgame Lessons.\\r\\nTop authors like Daniel King, Lawrence Trent and Rustam Kasimdzhanov\\nStill no ChessBase Account?\\nlearn more >\\nReal Fun against a Chess Program! Play, analyze and train online against Fritz. Beginner, club and master levels. Assisted play and calculation training.\\nStill no ChessBase Account?\\nlearn more >\\nLearn openings the right way! Build and maintain your repertoire. Memorize it easily move by move by playing against the variation trainer.\\nStill no ChessBase Account?\\nlearn more >\\nThe ultimate chess experience every day, PlayChess.com welcomes 20,000 chess players from all around the world – from beginner to grandmaster.\\nONLINE SHOP\\nNews\\nChessBase 18 Premium-Package\\nWinning starts with what you know – ChessBase 18\\n€499.90\\nJon Speelman: The wrong trousers and vengeance most equine\\n1/8/2025 – Welcome to 2025, a rare \"square year\" (45×45), and a time for both reflection and prediction. Chess fans enter the new year with excitement after a historic 2024, crowned by Gukesh\\'s ascension as World Champion, marking India\\'s growing dominance in chess. Meanwhile, Ian Nepomniachtchi\\'s dazzling ...Ne3+!! in the World Blitz final against Magnus Carlsen provided a fitting finale to a dramatic year. As we look ahead, will 2025 unveil a new prodigy destined for greatness? Share your thoughts and favourites in the comments. | Photo: FIDE / Lennart Ootes\\nMore...\\nComments 4\\n2\\nWho will play in the Freestyle Chess Grand Slam?\\n1/8/2025 – The WEISSENHAUS Freestyle Chess Grand Slam starts on 7 February, with 10 participants competing, 9 of whom have already been determined. The tenth will be determined in a play-in. After a Swiss system tournament, 16 players competed against each other in a knockout format. Four of them are still in the running: Ian Nepomniachtchi, Vladimir Fedoseev, Yu Yangyi and Javokhir Sindarov. These four will compete today in the semi-finals and finals to determine who will take part in the Grand Slam. Starting at 17.00 CET (11.00 ET, 9.30 pm IST), live and with commentary.\\nMore...\\n2\\nGM Iniyan on ChessBase 18 – (3)\\n1/8/2025 – \"ChessBase have truly outdone themselves with the new CB18,\" say strong GM Iniyan Panneerselvam. \"It makes life so much easier for players and coaches alike, thanks to its fantastic new features! We all know how precious time is; and CB18 is designed to save you a ton of time when you need it most.\" Today he describes how the software works with Mega Database 2025. and which additionsl bonus features it provides.\\nMore...\\n1\\nTwo Knights Talk: Looking back to 2024\\n1/8/2025 – Arne Kähler and Johannes Fischer start 2025 with a review of 2024. They recall the highlights of the past year, talk about the Chess Olympiad, various world championships, Freestyle Chess, the future number 1, the successes of India and consider who the male (Carlsen, Gukesh or Erigaisi) and female (Tan Zhongyi, Ju Wenjun, Divya Deshmukh or Humpy Koneru) players of the year are. And they ask which games were particularly impressive in 2024.\\nMore...\\n1\\nSvitlana\\'s Smart Moves - How to play the Benko Gambit!\\n1/8/2025 – One of our viewers’ favourite themes in Svitlana’s Smart Moves is the openings. This is probably due to the way Svitlana can splendidly explain the ideas, patterns, basics, and key points to consider in an opening. In this episode, the Canadian WIM tackles the Benko Gambit, an opening that Magnus Carlsen enjoyed for several years.\\nMore...\\n2\\nModern Classics – A captivating journey through the highlights of recent chess history\\n1/7/2025 – With his new video course \"Modern Classics\" Dorian Rogozenco, former German national coach and renowned chess theoretician, takes us on a journey through the fascinating world of chess games that have made history. | Photos: Nils Rohde\\nMore...\\n6\\nRiddle: Thomas-Alekhine 1925\\n1/7/2025 – The famous classic Thomas-Alekhine is a strategical masterpiece. It has served as a lesson on how to play against weak white pawns on c3 and d4. Ever since Nimzowitsch has dealt with it in his famous work \"My System\" it has been popular with trainers and students alike. But did White really use all defensive options? This has not been debated enough in the past. Can you do this important job?\\nMore...\\nComments 6\\n4\\nChess used as inspiration for refugee girls in Kakuma\\n1/7/2025 – In the Kakuma refugee camp in Kenya, chess is transforming lives through the Girls Club \"Chess for Protection\" initiative, launched by FIDE and UNHCR in 2021. Targeting young refugee girls, the programme combines chess lessons with life skills, fostering confidence, mental well-being, and hope in a safe environment. With over 250 participants annually across three schools, the initiative empowers these girls through training with world-class educators, a book club and workshops led by inspiring figures.\\nMore...\\n4\\nTricky rooks\\n1/7/2025 – If two rooks fight against a queen, coordination and harmony are crucial. In the diagram position the rooks have to fight against the queen and two passed pawns. But Black can draw the game. How?\\nMore...\\nComments\\n2\\nBassem Amin convincingly wins Rilton Cup in Stockholm\\n1/6/2025 – Egyptian GM Bassem Amin emerged victorious in the 52nd Rilton Cup, held from 27 December to 5 January in Stockholm, Sweden. The prestigious tournament, established in 1971 thanks to the visionary support of Dr Tore Rilton, attracted 115 players from 35 countries this year. Despite an early upset loss, Amin showcased his resilience by winning six consecutive games and secured the title with 7½ points. | Photo: Lars OA Hedlund\\nMore...\\n2\\nGame of the Week #652:  B. Jacobson  - H. Nakamura\\n1/6/2025 – Merijn van Delft starts the year with a provocation. In his first Game of the Week show of 2025, he presents a rapid game, in which White played 1.a4 against Hikaru Nakamura, the current world number 3. Despite his dubious opening, White won the game - in which his a-pawn made a remarkable career. | Merijn\\'s show is available on-demand with a ChessBase Premium Account. You can\\nregister a Premium account here\\n.\\nMore...\\n1\\nGM Iniyan on ChessBase 18 – (2)\\n1/6/2025 – There are many clear advantages of using the latest ChessBase 18. It dramatically improves your level of chess study and preparation. Ask Indian grandmaster Pa.Iniyan, who sent us an in-depth three-part review of his experience with the program. You would do well to follow what he says carefully – and use our software to increase your performance and rating. | Photo: Aditya Sur Roy\\nMore...\\n3\\nNews\\nChessBase 18 Premium-Package\\nWinning starts with what you know – ChessBase 18\\n€499.90\\nThe Funky Löwenthal Variation in 60 Minutes\\nWhether you’re looking for thrilling attacks, or steady positional play, the Löwenthal Variation has more to offer than meets the eye.\\n€9.90\\nChessBase Magazine 223\\nWorld Chess Championship 2024 - all games with analyses by Giri, Shankland, So and others. Kasimdzhanov, King and Ris show new opening ideas in the video. 10 repertoire articles from the English Opening to the King\\'s Indian and much more.\\n€21.90\\nOpening Surprise Weapons in 60 Minutes\\nThis 60-minute course is a selection of exciting and practical openings that are both easy to learn and enjoyable to play.\\n€9.90\\nThe delayed Alapin in 60 Minutes\\nLooking to surprise your opponents and sidestep the well-known Sicilian defenses? The Delayed Alapin offers a unique way to cut off many standard variations, making it an ideal weapon even against top-level players, including Grandmasters.\\n€9.90\\nModern Classics\\nTop trainers strongly recommend regular study of well-explained classical games to improve your understanding of chess in the long term. 33 modern classics are explained in details on this video course.\\n€39.90\\nChessBase Magazine Extra 222\\nVideos by Felix Blohberger: Reti Opening and Nico Zwirs: Najdorf Variation. \"Olympiad Special\": 21 analyses by Howell, Meier, Nguyen, Pelletier, Pichot, Van Foreest, Vitiugov, Wojtaszek and many more. Update Service with almost 40,000 new games!\\n€14.90\\nChessBase 18 Mega-Package\\nWinning starts with what you know – ChessBase 18\\n€349.90\\nPARTNER\\nAdvertising\\nBooks, boards, sets:\\nChess Niggemann\\nBooks, boards, sets:\\nChess Niggemann\\nS L Narayanan clear first at Groningen Festival\\n1/5/2025 – GM S L Narayanan scored an unbeaten 7/9 to win the main section of the Groningen Chess Festival 2024. The top seed finished a half point ahead of the competition. Four players collected 6½ points: GM Thomas Beerdsen, IM Nick Maatman, IM Manish Anto Cristiano and IM Theo Stijve. The 9-round Swiss open was organised in Gronigen, Netherlands from 21 to 30 December 2024. | Photo: Harry Gielen\\nMore...\\n3\\nUnderstanding before Moving 211: A new format for the FIDE World Championship\\n1/5/2025 – Herman Grooten is an International Master, a renowned trainer and the author of several highly acclaimed books on chess training and strategy. In episode 211 of his \"Understanding before Moving\" show Herman looks back to the World Championships that FIDE introduced after World Champion Garry Kasparov and Challenger Nigel Short split from FIDE by creating the PCA. | Photo: Pascal Simon\\nMore...\\n3\\nRobert Hübner has passed away\\n1/5/2025 – Robert Hübner died on 5 January 2025 after a long and serious illness. For decades after the war Robert Hübner was the best German chess player, with countless successes in individual and team competitions. In addition to his career as a tournament player, Hübner gained great importance as a profound chess historian and incorruptible analyst. With his death the chess world loses one of its outstanding minds. | Photo: R. Bogaerts / ANEFO via\\nnationaalarchief.nl\\nMore...\\nComments 17\\n15\\nSvitlana\\'s Smart Moves - Best Blunders of the Rapid & Blitz WCC\\n1/5/2025 – Svitlana\\'s Smart Moves first episode of 2025 is all about juicy tactics, and tragical blunders of the Rapid & Blitz World Chess Championship. Some chess tactics were especially significant. A couple of games by top players like Carlsen, Nepo, and Pragg were already won, and one more correct move would have sealed the deal. Instead, some blunders occurred, mostly in time trouble of course, and the tables turned.\\nMore...\\n2\\nFabiano Caruana first to get a spot at the 2026 Candidates Tournament\\n1/4/2025 – The dispute over Magnus Carlsen\\'s trousers in the rapid tournament and the crowning of two world champions in the blitz section, which was not provided for in the rules, dominated the news cycle surrounding the 2024 World Rapid and Blitz Championships 2024 - with one important sporting decision taking a back seat: thanks to his performance in New York, Fabiano Caruna won the FIDE Circuit 2024 and thus qualified for the 2026 Candidates Tournament. | Photo: Lennart Ootes\\nMore...\\n6\\nXue Haowen wins 98th Hastings Congress\\n1/4/2025 – The Hastings International Chess Congress, steeped in tradition since 1895, remains a cherished fixture in the chess world. This year\\'s edition, held from 28 December to 3 January, showcased both seasoned grandmasters and emerging stars. In a gripping 9-round Swiss open, China\\'s untitled player Haowen Xue triumphed with an undefeated 7 points. Close behind were grandmasters Pengxiang Zhang and Pierre Laurent-Paoli, alongside England\\'s rising talent Shreyas Royal. | Photo: Official website\\nMore...\\n3\\n1\\n2\\n3\\n4\\n5\\n...\\nNext\\nNews\\nChessBase 18 Premium-Package\\nWinning starts with what you know – ChessBase 18\\n€499.90\\nThe Funky Löwenthal Variation in 60 Minutes\\nWhether you’re looking for thrilling attacks, or steady positional play, the Löwenthal Variation has more to offer than meets the eye.\\n€9.90\\nChessBase Magazine 223\\nWorld Chess Championship 2024 - all games with analyses by Giri, Shankland, So and others. Kasimdzhanov, King and Ris show new opening ideas in the video. 10 repertoire articles from the English Opening to the King\\'s Indian and much more.\\n€21.90\\nOpening Surprise Weapons in 60 Minutes\\nThis 60-minute course is a selection of exciting and practical openings that are both easy to learn and enjoyable to play.\\n€9.90\\nThe delayed Alapin in 60 Minutes\\nLooking to surprise your opponents and sidestep the well-known Sicilian defenses? The Delayed Alapin offers a unique way to cut off many standard variations, making it an ideal weapon even against top-level players, including Grandmasters.\\n€9.90\\nModern Classics\\nTop trainers strongly recommend regular study of well-explained classical games to improve your understanding of chess in the long term. 33 modern classics are explained in details on this video course.\\n€39.90\\nChessBase Magazine Extra 222\\nVideos by Felix Blohberger: Reti Opening and Nico Zwirs: Najdorf Variation. \"Olympiad Special\": 21 analyses by Howell, Meier, Nguyen, Pelletier, Pichot, Van Foreest, Vitiugov, Wojtaszek and many more. Update Service with almost 40,000 new games!\\n€14.90\\nChessBase 18 Mega-Package\\nWinning starts with what you know – ChessBase 18\\n€349.90\\nPrivacy policy\\n|\\nImprint\\n|\\nContact\\n|\\nlicenses\\n|\\nHome\\n© 2017 ChessBase GmbH | Osterbekstraße 90a | 22083 Hamburg | Germany\\ncoldest news\\nWe use cookies and comparable technologies to provide certain functions, to improve the user experience and to offer interest-oriented content. Depending on their intended use, analysis cookies and marketing cookies may be used in addition to technically required cookies.\\nHere\\nyou can make detailed settings or revoke your consent (if necessary partially) with effect for the future. Further information can be found in our\\ndata protection declaration\\n.\\nAgree and continue\\nPop-up for detailed settings\\nWe use cookies and comparable technologies to provide certain functions, to improve the user experience and to offer interest-oriented content. Depending on their intended use, cookies may be used in addition to technically required cookies, analysis cookies and marketing cookies. You can decide which cookies to use by selecting the appropriate options below. Please note that your selection may affect the functionality of the service. Further information can be found in our\\nprivacy policy\\n.\\nTechnically required cookies\\nTechnically required cookies: so that you can navigate and use the basic functions and store preferences.\\nAnalysis Cookies\\nTo help us determine how visitors interact with our website to improve the user experience.\\nMarketing-Cookies\\nTo help us offer and evaluate relevant content and interesting and appropriate advertisement.\\nSave and continue'}]"
      ]
     },
     "execution_count": 16,
     "metadata": {},
     "output_type": "execute_result"
    }
   ],
   "source": [
    "messages"
   ]
  },
  {
   "cell_type": "code",
   "execution_count": 19,
   "id": "080d777c-69fd-41bd-9c80-9e12f64153b3",
   "metadata": {},
   "outputs": [],
   "source": [
    "\n",
    "\n",
    "def summarize(url):\n",
    "    website = Website(url)\n",
    "    ollama_via_openai = OpenAI(base_url='http://localhost:11434/v1', api_key='ollama')\n",
    "\n",
    "    response = ollama_via_openai.chat.completions.create(\n",
    "    model=\"llama3.2\",\n",
    "    messages=messages)\n",
    "    \n",
    "    return response.choices[0].message.content"
   ]
  },
  {
   "cell_type": "code",
   "execution_count": 20,
   "id": "c89626d7-79b8-4019-bef1-ac9372d6f2a1",
   "metadata": {},
   "outputs": [
    {
     "data": {
      "text/plain": [
       "\"**ChessBase News Headlines**\\n\\n### Chess News 01.03.2024\\n\\n#### - \\nChess news for the discerning chess enthusiast\\nChessBase is a leading provider of online services specifically created for chess players: \\n- ChessBase offers access to its vast database with more than two billion positions from over four million games, as well as coverage of major tournaments.\\n\\nThe best chess courses:\\nFor beginners, our interactive introduction to chess will teach you everything.\\nGet access to in-depth analysis of the top games using [our ChessBase account] and get an extra one year for free. \\nFor experts: Our latest videos provide high-quality information:\\n\\nAnalyzing tactics in chess with videos\\n\\nChess Tactics Training with Videos\\n\\n#### - \\nOur news section is the perfect place for you if:\\n*   You're new to this section, it's our regularly updated overview on ChessBase events\\n*   You want to get informed about upcoming chess tournaments\\n*   You have questions and need to know how you can stay involved.\\n\\nRecent Tournaments\\n\\nChampions Chess Cup 2022\\n\\nWorld Chess Championship 2021\\n\\nTata Steel Chess Tournament\""
      ]
     },
     "execution_count": 20,
     "metadata": {},
     "output_type": "execute_result"
    }
   ],
   "source": [
    "summarize(\"https://en.chessbase.com\")"
   ]
  },
  {
   "cell_type": "code",
   "execution_count": 21,
   "id": "4c16ad84-df56-41ac-ad26-3380441b7583",
   "metadata": {},
   "outputs": [],
   "source": [
    "\n",
    "def display_summary(url):\n",
    "    summary = summarize(url)\n",
    "    display(Markdown(summary))\n"
   ]
  },
  {
   "cell_type": "code",
   "execution_count": 22,
   "id": "100ba732-f3a1-476c-a899-57b26337e386",
   "metadata": {},
   "outputs": [
    {
     "data": {
      "text/markdown": [
       "This appears to be a ChessBase news page, providing updates and information on various chess-related topics. Here's a summary of the articles featured:\n",
       "\n",
       "1. **ChessBase 18 Premium-Package**: An introduction to the new premium package, which includes tutorials and analysis tools for chess players of all levels.\n",
       "2. **The Funky Löwenthal Variation in 60 Minutes**: A 60-minute video course focused on the Löwenthal Variation, a popular chess opening that can be used for both aggressive and positional play.\n",
       "3. **World Chess Championship 2024: Post-Event Analysis**: An overview of the recent World Rapid and Blitz Championships, including analysis of games played by top players like Carlsen, Nepo, and Pragg.\n",
       "4. **Fabiano Caruana Qualifies for 2026 Candidates Tournament**: News that Fabiano Caruana has earned a spot in the 2026 Candidates Tournament through his performance on the FIDE Circuit 2024.\n",
       "5. **Xue Haowen Wins Hastings Congress**: A report on the recent Hastings International Chess Congress, where Chinese player Xue Haowen emerged as the winner of the 98th edition of the tournament.\n",
       "\n",
       "Additionally, there are various other news articles and advertisements for chess-related products and services."
      ],
      "text/plain": [
       "<IPython.core.display.Markdown object>"
      ]
     },
     "metadata": {},
     "output_type": "display_data"
    }
   ],
   "source": [
    "display_summary(\"https://en.chessbase.com\")"
   ]
  },
  {
   "cell_type": "code",
   "execution_count": null,
   "id": "201ac3fe-abaf-47cb-a5f0-e5bae5bc4f65",
   "metadata": {},
   "outputs": [],
   "source": []
  }
 ],
 "metadata": {
  "kernelspec": {
   "display_name": "Python 3 (ipykernel)",
   "language": "python",
   "name": "python3"
  },
  "language_info": {
   "codemirror_mode": {
    "name": "ipython",
    "version": 3
   },
   "file_extension": ".py",
   "mimetype": "text/x-python",
   "name": "python",
   "nbconvert_exporter": "python",
   "pygments_lexer": "ipython3",
   "version": "3.11.11"
  }
 },
 "nbformat": 4,
 "nbformat_minor": 5
}
